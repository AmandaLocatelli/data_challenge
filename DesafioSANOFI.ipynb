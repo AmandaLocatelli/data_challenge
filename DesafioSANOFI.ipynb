{
  "nbformat": 4,
  "nbformat_minor": 0,
  "metadata": {
    "colab": {
      "name": "DesafioSANOFI.ipynb",
      "provenance": [],
      "collapsed_sections": []
    },
    "kernelspec": {
      "name": "python3",
      "display_name": "Python 3"
    }
  },
  "cells": [
    {
      "cell_type": "code",
      "metadata": {
        "id": "V5brQYP_o0Ik",
        "colab_type": "code",
        "colab": {
          "base_uri": "https://localhost:8080/",
          "height": 1000
        },
        "outputId": "c950a27c-e4c3-4211-b537-060bc9cf7dc6"
      },
      "source": [
        "import pandas as pd\n",
        "!pip install --upgrade q gspread\n",
        "!pip install gspread-dataframe\n",
        "!pip install gspread_pandas\n",
        "import numpy as np\n",
        "import gspread \n",
        "from gspread_dataframe import get_as_dataframe, set_with_dataframe\n",
        "from gspread_pandas import Spread, Client\n",
        "import matplotlib\n",
        "import matplotlib.pyplot as plt\n",
        "%matplotlib inline"
      ],
      "execution_count": 252,
      "outputs": [
        {
          "output_type": "stream",
          "text": [
            "Requirement already up-to-date: q in /usr/local/lib/python3.6/dist-packages (2.6)\n",
            "Requirement already up-to-date: gspread in /usr/local/lib/python3.6/dist-packages (3.6.0)\n",
            "Requirement already satisfied, skipping upgrade: google-auth-oauthlib>=0.4.1 in /usr/local/lib/python3.6/dist-packages (from gspread) (0.4.1)\n",
            "Requirement already satisfied, skipping upgrade: google-auth>=1.12.0 in /usr/local/lib/python3.6/dist-packages (from gspread) (1.17.2)\n",
            "Requirement already satisfied, skipping upgrade: requests>=2.2.1 in /usr/local/lib/python3.6/dist-packages (from gspread) (2.23.0)\n",
            "Requirement already satisfied, skipping upgrade: requests-oauthlib>=0.7.0 in /usr/local/lib/python3.6/dist-packages (from google-auth-oauthlib>=0.4.1->gspread) (1.3.0)\n",
            "Requirement already satisfied, skipping upgrade: pyasn1-modules>=0.2.1 in /usr/local/lib/python3.6/dist-packages (from google-auth>=1.12.0->gspread) (0.2.8)\n",
            "Requirement already satisfied, skipping upgrade: cachetools<5.0,>=2.0.0 in /usr/local/lib/python3.6/dist-packages (from google-auth>=1.12.0->gspread) (4.1.1)\n",
            "Requirement already satisfied, skipping upgrade: rsa<5,>=3.1.4; python_version >= \"3\" in /usr/local/lib/python3.6/dist-packages (from google-auth>=1.12.0->gspread) (4.6)\n",
            "Requirement already satisfied, skipping upgrade: setuptools>=40.3.0 in /usr/local/lib/python3.6/dist-packages (from google-auth>=1.12.0->gspread) (49.6.0)\n",
            "Requirement already satisfied, skipping upgrade: six>=1.9.0 in /usr/local/lib/python3.6/dist-packages (from google-auth>=1.12.0->gspread) (1.15.0)\n",
            "Requirement already satisfied, skipping upgrade: certifi>=2017.4.17 in /usr/local/lib/python3.6/dist-packages (from requests>=2.2.1->gspread) (2020.6.20)\n",
            "Requirement already satisfied, skipping upgrade: chardet<4,>=3.0.2 in /usr/local/lib/python3.6/dist-packages (from requests>=2.2.1->gspread) (3.0.4)\n",
            "Requirement already satisfied, skipping upgrade: urllib3!=1.25.0,!=1.25.1,<1.26,>=1.21.1 in /usr/local/lib/python3.6/dist-packages (from requests>=2.2.1->gspread) (1.24.3)\n",
            "Requirement already satisfied, skipping upgrade: idna<3,>=2.5 in /usr/local/lib/python3.6/dist-packages (from requests>=2.2.1->gspread) (2.10)\n",
            "Requirement already satisfied, skipping upgrade: oauthlib>=3.0.0 in /usr/local/lib/python3.6/dist-packages (from requests-oauthlib>=0.7.0->google-auth-oauthlib>=0.4.1->gspread) (3.1.0)\n",
            "Requirement already satisfied, skipping upgrade: pyasn1<0.5.0,>=0.4.6 in /usr/local/lib/python3.6/dist-packages (from pyasn1-modules>=0.2.1->google-auth>=1.12.0->gspread) (0.4.8)\n",
            "Requirement already satisfied: gspread-dataframe in /usr/local/lib/python3.6/dist-packages (3.0.8)\n",
            "Requirement already satisfied: pandas>=0.14.0 in /usr/local/lib/python3.6/dist-packages (from gspread-dataframe) (1.0.5)\n",
            "Requirement already satisfied: gspread>=3.0.0 in /usr/local/lib/python3.6/dist-packages (from gspread-dataframe) (3.6.0)\n",
            "Requirement already satisfied: python-dateutil>=2.6.1 in /usr/local/lib/python3.6/dist-packages (from pandas>=0.14.0->gspread-dataframe) (2.8.1)\n",
            "Requirement already satisfied: numpy>=1.13.3 in /usr/local/lib/python3.6/dist-packages (from pandas>=0.14.0->gspread-dataframe) (1.18.5)\n",
            "Requirement already satisfied: pytz>=2017.2 in /usr/local/lib/python3.6/dist-packages (from pandas>=0.14.0->gspread-dataframe) (2018.9)\n",
            "Requirement already satisfied: google-auth-oauthlib>=0.4.1 in /usr/local/lib/python3.6/dist-packages (from gspread>=3.0.0->gspread-dataframe) (0.4.1)\n",
            "Requirement already satisfied: google-auth>=1.12.0 in /usr/local/lib/python3.6/dist-packages (from gspread>=3.0.0->gspread-dataframe) (1.17.2)\n",
            "Requirement already satisfied: requests>=2.2.1 in /usr/local/lib/python3.6/dist-packages (from gspread>=3.0.0->gspread-dataframe) (2.23.0)\n",
            "Requirement already satisfied: six>=1.5 in /usr/local/lib/python3.6/dist-packages (from python-dateutil>=2.6.1->pandas>=0.14.0->gspread-dataframe) (1.15.0)\n",
            "Requirement already satisfied: requests-oauthlib>=0.7.0 in /usr/local/lib/python3.6/dist-packages (from google-auth-oauthlib>=0.4.1->gspread>=3.0.0->gspread-dataframe) (1.3.0)\n",
            "Requirement already satisfied: pyasn1-modules>=0.2.1 in /usr/local/lib/python3.6/dist-packages (from google-auth>=1.12.0->gspread>=3.0.0->gspread-dataframe) (0.2.8)\n",
            "Requirement already satisfied: cachetools<5.0,>=2.0.0 in /usr/local/lib/python3.6/dist-packages (from google-auth>=1.12.0->gspread>=3.0.0->gspread-dataframe) (4.1.1)\n",
            "Requirement already satisfied: setuptools>=40.3.0 in /usr/local/lib/python3.6/dist-packages (from google-auth>=1.12.0->gspread>=3.0.0->gspread-dataframe) (49.6.0)\n",
            "Requirement already satisfied: rsa<5,>=3.1.4; python_version >= \"3\" in /usr/local/lib/python3.6/dist-packages (from google-auth>=1.12.0->gspread>=3.0.0->gspread-dataframe) (4.6)\n",
            "Requirement already satisfied: idna<3,>=2.5 in /usr/local/lib/python3.6/dist-packages (from requests>=2.2.1->gspread>=3.0.0->gspread-dataframe) (2.10)\n",
            "Requirement already satisfied: certifi>=2017.4.17 in /usr/local/lib/python3.6/dist-packages (from requests>=2.2.1->gspread>=3.0.0->gspread-dataframe) (2020.6.20)\n",
            "Requirement already satisfied: chardet<4,>=3.0.2 in /usr/local/lib/python3.6/dist-packages (from requests>=2.2.1->gspread>=3.0.0->gspread-dataframe) (3.0.4)\n",
            "Requirement already satisfied: urllib3!=1.25.0,!=1.25.1,<1.26,>=1.21.1 in /usr/local/lib/python3.6/dist-packages (from requests>=2.2.1->gspread>=3.0.0->gspread-dataframe) (1.24.3)\n",
            "Requirement already satisfied: oauthlib>=3.0.0 in /usr/local/lib/python3.6/dist-packages (from requests-oauthlib>=0.7.0->google-auth-oauthlib>=0.4.1->gspread>=3.0.0->gspread-dataframe) (3.1.0)\n",
            "Requirement already satisfied: pyasn1<0.5.0,>=0.4.6 in /usr/local/lib/python3.6/dist-packages (from pyasn1-modules>=0.2.1->google-auth>=1.12.0->gspread>=3.0.0->gspread-dataframe) (0.4.8)\n",
            "Requirement already satisfied: gspread_pandas in /usr/local/lib/python3.6/dist-packages (2.2.3)\n",
            "Requirement already satisfied: gspread>=3.0.0 in /usr/local/lib/python3.6/dist-packages (from gspread_pandas) (3.6.0)\n",
            "Requirement already satisfied: decorator in /usr/local/lib/python3.6/dist-packages (from gspread_pandas) (4.4.2)\n",
            "Requirement already satisfied: pandas>=0.20.0 in /usr/local/lib/python3.6/dist-packages (from gspread_pandas) (1.0.5)\n",
            "Requirement already satisfied: future in /usr/local/lib/python3.6/dist-packages (from gspread_pandas) (0.16.0)\n",
            "Requirement already satisfied: google-auth in /usr/local/lib/python3.6/dist-packages (from gspread_pandas) (1.17.2)\n",
            "Requirement already satisfied: google-auth-oauthlib in /usr/local/lib/python3.6/dist-packages (from gspread_pandas) (0.4.1)\n",
            "Requirement already satisfied: requests>=2.2.1 in /usr/local/lib/python3.6/dist-packages (from gspread>=3.0.0->gspread_pandas) (2.23.0)\n",
            "Requirement already satisfied: pytz>=2017.2 in /usr/local/lib/python3.6/dist-packages (from pandas>=0.20.0->gspread_pandas) (2018.9)\n",
            "Requirement already satisfied: numpy>=1.13.3 in /usr/local/lib/python3.6/dist-packages (from pandas>=0.20.0->gspread_pandas) (1.18.5)\n",
            "Requirement already satisfied: python-dateutil>=2.6.1 in /usr/local/lib/python3.6/dist-packages (from pandas>=0.20.0->gspread_pandas) (2.8.1)\n",
            "Requirement already satisfied: rsa<5,>=3.1.4; python_version >= \"3\" in /usr/local/lib/python3.6/dist-packages (from google-auth->gspread_pandas) (4.6)\n",
            "Requirement already satisfied: setuptools>=40.3.0 in /usr/local/lib/python3.6/dist-packages (from google-auth->gspread_pandas) (49.6.0)\n",
            "Requirement already satisfied: cachetools<5.0,>=2.0.0 in /usr/local/lib/python3.6/dist-packages (from google-auth->gspread_pandas) (4.1.1)\n",
            "Requirement already satisfied: six>=1.9.0 in /usr/local/lib/python3.6/dist-packages (from google-auth->gspread_pandas) (1.15.0)\n",
            "Requirement already satisfied: pyasn1-modules>=0.2.1 in /usr/local/lib/python3.6/dist-packages (from google-auth->gspread_pandas) (0.2.8)\n",
            "Requirement already satisfied: requests-oauthlib>=0.7.0 in /usr/local/lib/python3.6/dist-packages (from google-auth-oauthlib->gspread_pandas) (1.3.0)\n",
            "Requirement already satisfied: chardet<4,>=3.0.2 in /usr/local/lib/python3.6/dist-packages (from requests>=2.2.1->gspread>=3.0.0->gspread_pandas) (3.0.4)\n",
            "Requirement already satisfied: urllib3!=1.25.0,!=1.25.1,<1.26,>=1.21.1 in /usr/local/lib/python3.6/dist-packages (from requests>=2.2.1->gspread>=3.0.0->gspread_pandas) (1.24.3)\n",
            "Requirement already satisfied: idna<3,>=2.5 in /usr/local/lib/python3.6/dist-packages (from requests>=2.2.1->gspread>=3.0.0->gspread_pandas) (2.10)\n",
            "Requirement already satisfied: certifi>=2017.4.17 in /usr/local/lib/python3.6/dist-packages (from requests>=2.2.1->gspread>=3.0.0->gspread_pandas) (2020.6.20)\n",
            "Requirement already satisfied: pyasn1>=0.1.3 in /usr/local/lib/python3.6/dist-packages (from rsa<5,>=3.1.4; python_version >= \"3\"->google-auth->gspread_pandas) (0.4.8)\n",
            "Requirement already satisfied: oauthlib>=3.0.0 in /usr/local/lib/python3.6/dist-packages (from requests-oauthlib>=0.7.0->google-auth-oauthlib->gspread_pandas) (3.1.0)\n"
          ],
          "name": "stdout"
        }
      ]
    },
    {
      "cell_type": "code",
      "metadata": {
        "id": "sWr3qGbyyBKu",
        "colab_type": "code",
        "colab": {}
      },
      "source": [
        "gc = gspread.authorize(GoogleCredentials.get_application_default())\n",
        "servidores = gc.open_by_url('https://docs.google.com/spreadsheets/d/18z9Zbx4kcJI7gFLFxN_29GxwQ_9GJuQ6jXPNw4CIbKQ/edit?usp=sharing')"
      ],
      "execution_count": 155,
      "outputs": []
    },
    {
      "cell_type": "code",
      "metadata": {
        "id": "lctwYUB23pf_",
        "colab_type": "code",
        "colab": {}
      },
      "source": [
        "estabelecimentos = gc.open_by_url('https://docs.google.com/spreadsheets/d/1vwo4sQVSXAORRnECOBfa52kzvIj7FTzGgwZFY-vIfyk/edit?usp=sharing')"
      ],
      "execution_count": 156,
      "outputs": []
    },
    {
      "cell_type": "code",
      "metadata": {
        "id": "Qms4iBRg5mKz",
        "colab_type": "code",
        "colab": {}
      },
      "source": [
        "def get_ws_as_df(url_sheet, ws_name):\n",
        "  ''' get the URL (parameter1) of the chosen Googlesheets, transforms it in a pandas readable, \n",
        "      get the chosen worksheet's name (parameter2)and transforms it into a dataframe with the chosen DataFrame name (parameter3)''' \n",
        "\n",
        "  df = url_sheet.worksheet(ws_name)\n",
        "  df = get_as_dataframe(df)\n",
        "  return df"
      ],
      "execution_count": 157,
      "outputs": []
    },
    {
      "cell_type": "code",
      "metadata": {
        "id": "RD6VmOrp7wnZ",
        "colab_type": "code",
        "colab": {}
      },
      "source": [
        "df_servidores = get_ws_as_df(servidores, 'sisrh_cgm_2016_08')\n",
        "df_arquivo = get_ws_as_df(estabelecimentos, 'Arquivo')\n",
        "df_categorias = get_ws_as_df(estabelecimentos,'Categorias')\n",
        "df_variaveis = get_ws_as_df(estabelecimentos, 'Variáveis')\n",
        "df_DEINFO2014 = get_ws_as_df(estabelecimentos, 'DEINFO_SA_CADSAU_2014')"
      ],
      "execution_count": 158,
      "outputs": []
    },
    {
      "cell_type": "code",
      "metadata": {
        "id": "EpEyKeWyL7ba",
        "colab_type": "code",
        "colab": {
          "base_uri": "https://localhost:8080/",
          "height": 89
        },
        "outputId": "16dd4b66-1fbb-4c6a-c252-622f06e81627"
      },
      "source": [
        "df_servidores.columns"
      ],
      "execution_count": 178,
      "outputs": [
        {
          "output_type": "execute_result",
          "data": {
            "text/plain": [
              "Index(['SERVIDOR', 'SEXO', 'VINCULO', 'CONSELHO', 'ESPECIALIDAD', 'CARGO',\n",
              "       'NIVEL', 'PARCEIRA', 'JORNADA', 'REGIME', 'CNES', 'DATA_INICIO',\n",
              "       'DATA_FIM', 'READAPTADO', 'ATIVO'],\n",
              "      dtype='object')"
            ]
          },
          "metadata": {
            "tags": []
          },
          "execution_count": 178
        }
      ]
    },
    {
      "cell_type": "code",
      "metadata": {
        "id": "xqi85bpb3L28",
        "colab_type": "code",
        "colab": {
          "base_uri": "https://localhost:8080/",
          "height": 107
        },
        "outputId": "0ebb0cc1-9917-47f2-c150-a0a3beb63f55"
      },
      "source": [
        "df_DEINFO2014.columns"
      ],
      "execution_count": 196,
      "outputs": [
        {
          "output_type": "execute_result",
          "data": {
            "text/plain": [
              "Index(['ID', 'LONG', 'LAT', 'SETCENS', 'AREAP', 'CODDIST', 'DISTRITO',\n",
              "       'CODSUBPREF', 'SUBPREF', 'REGIAO5', 'REGIAO8', 'ESTABELECI', 'ENDERECO',\n",
              "       'BAIRRO', 'TELEFONE', 'CEP', 'CNES', 'SA_DEPADM', 'DEPADM', 'SA_TIPO',\n",
              "       'TIPO', 'SA_CLASSE', 'CLASSE', 'LEITOS'],\n",
              "      dtype='object')"
            ]
          },
          "metadata": {
            "tags": []
          },
          "execution_count": 196
        }
      ]
    },
    {
      "cell_type": "code",
      "metadata": {
        "id": "ff2dBnVyTUtY",
        "colab_type": "code",
        "colab": {
          "base_uri": "https://localhost:8080/",
          "height": 467
        },
        "outputId": "51b8354d-c27e-418f-c1ee-42b2f2b35866"
      },
      "source": [
        "df_DEINFO2014.dtypes"
      ],
      "execution_count": 197,
      "outputs": [
        {
          "output_type": "execute_result",
          "data": {
            "text/plain": [
              "ID              int64\n",
              "LONG            int64\n",
              "LAT             int64\n",
              "SETCENS         int64\n",
              "AREAP           int64\n",
              "CODDIST         int64\n",
              "DISTRITO       object\n",
              "CODSUBPREF      int64\n",
              "SUBPREF        object\n",
              "REGIAO5        object\n",
              "REGIAO8        object\n",
              "ESTABELECI     object\n",
              "ENDERECO       object\n",
              "BAIRRO         object\n",
              "TELEFONE      float64\n",
              "CEP           float64\n",
              "CNES            Int64\n",
              "SA_DEPADM       int64\n",
              "DEPADM         object\n",
              "SA_TIPO         int64\n",
              "TIPO           object\n",
              "SA_CLASSE       int64\n",
              "CLASSE         object\n",
              "LEITOS          int64\n",
              "dtype: object"
            ]
          },
          "metadata": {
            "tags": []
          },
          "execution_count": 197
        }
      ]
    },
    {
      "cell_type": "code",
      "metadata": {
        "id": "h6gJi6onN4ri",
        "colab_type": "code",
        "colab": {}
      },
      "source": [
        "df_servidores['CNES'] = df_servidores['CNES'].astype('Int64')"
      ],
      "execution_count": 198,
      "outputs": []
    },
    {
      "cell_type": "code",
      "metadata": {
        "id": "l5W4IlkoRPwG",
        "colab_type": "code",
        "colab": {
          "base_uri": "https://localhost:8080/",
          "height": 711
        },
        "outputId": "b0f2b8c0-5932-4bfd-e620-b53d8de86dce"
      },
      "source": [
        "df_DEINFO2014.fillna(0)\n",
        "df_servidores.fillna(0)"
      ],
      "execution_count": 188,
      "outputs": [
        {
          "output_type": "execute_result",
          "data": {
            "text/html": [
              "<div>\n",
              "<style scoped>\n",
              "    .dataframe tbody tr th:only-of-type {\n",
              "        vertical-align: middle;\n",
              "    }\n",
              "\n",
              "    .dataframe tbody tr th {\n",
              "        vertical-align: top;\n",
              "    }\n",
              "\n",
              "    .dataframe thead th {\n",
              "        text-align: right;\n",
              "    }\n",
              "</style>\n",
              "<table border=\"1\" class=\"dataframe\">\n",
              "  <thead>\n",
              "    <tr style=\"text-align: right;\">\n",
              "      <th></th>\n",
              "      <th>SERVIDOR</th>\n",
              "      <th>SEXO</th>\n",
              "      <th>VINCULO</th>\n",
              "      <th>CONSELHO</th>\n",
              "      <th>ESPECIALIDAD</th>\n",
              "      <th>CARGO</th>\n",
              "      <th>NIVEL</th>\n",
              "      <th>PARCEIRA</th>\n",
              "      <th>JORNADA</th>\n",
              "      <th>REGIME</th>\n",
              "      <th>CNES</th>\n",
              "      <th>DATA_INICIO</th>\n",
              "      <th>DATA_FIM</th>\n",
              "      <th>READAPTADO</th>\n",
              "      <th>ATIVO</th>\n",
              "    </tr>\n",
              "  </thead>\n",
              "  <tbody>\n",
              "    <tr>\n",
              "      <th>0</th>\n",
              "      <td>38154</td>\n",
              "      <td>F</td>\n",
              "      <td>ESTADUAL</td>\n",
              "      <td>-</td>\n",
              "      <td>-</td>\n",
              "      <td>AUXILIAR DE SERVICOS GERAIS</td>\n",
              "      <td>O</td>\n",
              "      <td>-</td>\n",
              "      <td>J40</td>\n",
              "      <td>ADMITIDO LEI 500</td>\n",
              "      <td>2752344</td>\n",
              "      <td>10/1/1991</td>\n",
              "      <td>0</td>\n",
              "      <td>-</td>\n",
              "      <td>S</td>\n",
              "    </tr>\n",
              "    <tr>\n",
              "      <th>1</th>\n",
              "      <td>43713</td>\n",
              "      <td>F</td>\n",
              "      <td>PARCEIRA</td>\n",
              "      <td>-</td>\n",
              "      <td>-</td>\n",
              "      <td>AGENTE COMUNITARIO DE SAUDE</td>\n",
              "      <td>O</td>\n",
              "      <td>SANTA CATARINA</td>\n",
              "      <td>J40</td>\n",
              "      <td>CLT</td>\n",
              "      <td>2788039</td>\n",
              "      <td>10/22/2001</td>\n",
              "      <td>5/3/2006</td>\n",
              "      <td>N</td>\n",
              "      <td>N</td>\n",
              "    </tr>\n",
              "    <tr>\n",
              "      <th>2</th>\n",
              "      <td>43457</td>\n",
              "      <td>F</td>\n",
              "      <td>PARCEIRA</td>\n",
              "      <td>-</td>\n",
              "      <td>-</td>\n",
              "      <td>AGENTE COMUNITARIO DE SAUDE</td>\n",
              "      <td>O</td>\n",
              "      <td>IAE  UNASP</td>\n",
              "      <td>J40</td>\n",
              "      <td>CLT</td>\n",
              "      <td>2787563</td>\n",
              "      <td>12/10/2001</td>\n",
              "      <td>4/7/2015</td>\n",
              "      <td>N</td>\n",
              "      <td>N</td>\n",
              "    </tr>\n",
              "    <tr>\n",
              "      <th>3</th>\n",
              "      <td>83426</td>\n",
              "      <td>F</td>\n",
              "      <td>HSPM</td>\n",
              "      <td>CRM</td>\n",
              "      <td>INFECTOLOGIA</td>\n",
              "      <td>MEDICO</td>\n",
              "      <td>S</td>\n",
              "      <td>-</td>\n",
              "      <td>J20</td>\n",
              "      <td>CLT</td>\n",
              "      <td>2752077</td>\n",
              "      <td>1/14/2002</td>\n",
              "      <td>4/1/2009</td>\n",
              "      <td>N</td>\n",
              "      <td>N</td>\n",
              "    </tr>\n",
              "    <tr>\n",
              "      <th>4</th>\n",
              "      <td>16838</td>\n",
              "      <td>F</td>\n",
              "      <td>MUNICIPAL</td>\n",
              "      <td>-</td>\n",
              "      <td>AUXILIAR DE ENFERMAGEM</td>\n",
              "      <td>AUXILIAR DE ENFERMAGEM</td>\n",
              "      <td>M</td>\n",
              "      <td>-</td>\n",
              "      <td>JET 36</td>\n",
              "      <td>EFETIVO</td>\n",
              "      <td>2079186</td>\n",
              "      <td>10/9/1995</td>\n",
              "      <td>4/1/2016</td>\n",
              "      <td>N</td>\n",
              "      <td>N</td>\n",
              "    </tr>\n",
              "    <tr>\n",
              "      <th>...</th>\n",
              "      <td>...</td>\n",
              "      <td>...</td>\n",
              "      <td>...</td>\n",
              "      <td>...</td>\n",
              "      <td>...</td>\n",
              "      <td>...</td>\n",
              "      <td>...</td>\n",
              "      <td>...</td>\n",
              "      <td>...</td>\n",
              "      <td>...</td>\n",
              "      <td>...</td>\n",
              "      <td>...</td>\n",
              "      <td>...</td>\n",
              "      <td>...</td>\n",
              "      <td>...</td>\n",
              "    </tr>\n",
              "    <tr>\n",
              "      <th>188207</th>\n",
              "      <td>21312</td>\n",
              "      <td>F</td>\n",
              "      <td>MUNICIPAL</td>\n",
              "      <td>-</td>\n",
              "      <td>-</td>\n",
              "      <td>AUXILIAR DE ENFERMAGEM</td>\n",
              "      <td>M</td>\n",
              "      <td>-</td>\n",
              "      <td>J30</td>\n",
              "      <td>EFETIVO</td>\n",
              "      <td>2084473</td>\n",
              "      <td>10/31/1991</td>\n",
              "      <td>12/3/2003</td>\n",
              "      <td>N</td>\n",
              "      <td>N</td>\n",
              "    </tr>\n",
              "    <tr>\n",
              "      <th>188208</th>\n",
              "      <td>47527</td>\n",
              "      <td>F</td>\n",
              "      <td>MUNICIPAL</td>\n",
              "      <td>-</td>\n",
              "      <td>HEMOTERAPIA</td>\n",
              "      <td>AUXILIAR TECNICO DE SAUDE HEMOTERAPIA</td>\n",
              "      <td>M</td>\n",
              "      <td>-</td>\n",
              "      <td>J30</td>\n",
              "      <td>EFETIVO</td>\n",
              "      <td>2077639</td>\n",
              "      <td>6/25/1990</td>\n",
              "      <td>4/8/2015</td>\n",
              "      <td>N</td>\n",
              "      <td>N</td>\n",
              "    </tr>\n",
              "    <tr>\n",
              "      <th>188209</th>\n",
              "      <td>21960</td>\n",
              "      <td>F</td>\n",
              "      <td>MUNICIPAL</td>\n",
              "      <td>-</td>\n",
              "      <td>-</td>\n",
              "      <td>ASSISTENTE SOCIAL</td>\n",
              "      <td>S</td>\n",
              "      <td>-</td>\n",
              "      <td>J40</td>\n",
              "      <td>EFETIVO</td>\n",
              "      <td>3446867</td>\n",
              "      <td>6/15/1990</td>\n",
              "      <td>12/21/2015</td>\n",
              "      <td>N</td>\n",
              "      <td>N</td>\n",
              "    </tr>\n",
              "    <tr>\n",
              "      <th>188210</th>\n",
              "      <td>35829</td>\n",
              "      <td>F</td>\n",
              "      <td>ESTADUAL</td>\n",
              "      <td>-</td>\n",
              "      <td>-</td>\n",
              "      <td>AUXILIAR DE CONSULTORIO DENTARIO</td>\n",
              "      <td>M</td>\n",
              "      <td>-</td>\n",
              "      <td>J40</td>\n",
              "      <td>ADMITIDO LEI 500</td>\n",
              "      <td>2788632</td>\n",
              "      <td>4/15/1999</td>\n",
              "      <td>1/15/2009</td>\n",
              "      <td>N</td>\n",
              "      <td>N</td>\n",
              "    </tr>\n",
              "    <tr>\n",
              "      <th>188211</th>\n",
              "      <td>15994</td>\n",
              "      <td>F</td>\n",
              "      <td>MUNICIPAL</td>\n",
              "      <td>-</td>\n",
              "      <td>CONSULTORIO DENTARIO</td>\n",
              "      <td>AUXILIAR DE CONSULTORIO DENTARIO</td>\n",
              "      <td>M</td>\n",
              "      <td>-</td>\n",
              "      <td>J30</td>\n",
              "      <td>EFETIVO</td>\n",
              "      <td>2752123</td>\n",
              "      <td>5/22/1992</td>\n",
              "      <td>9/5/2013</td>\n",
              "      <td>N</td>\n",
              "      <td>N</td>\n",
              "    </tr>\n",
              "  </tbody>\n",
              "</table>\n",
              "<p>188212 rows × 15 columns</p>\n",
              "</div>"
            ],
            "text/plain": [
              "        SERVIDOR SEXO    VINCULO  ...    DATA_FIM READAPTADO ATIVO\n",
              "0          38154    F   ESTADUAL  ...           0          -     S\n",
              "1          43713    F   PARCEIRA  ...    5/3/2006          N     N\n",
              "2          43457    F   PARCEIRA  ...    4/7/2015          N     N\n",
              "3          83426    F       HSPM  ...    4/1/2009          N     N\n",
              "4          16838    F  MUNICIPAL  ...    4/1/2016          N     N\n",
              "...          ...  ...        ...  ...         ...        ...   ...\n",
              "188207     21312    F  MUNICIPAL  ...   12/3/2003          N     N\n",
              "188208     47527    F  MUNICIPAL  ...    4/8/2015          N     N\n",
              "188209     21960    F  MUNICIPAL  ...  12/21/2015          N     N\n",
              "188210     35829    F   ESTADUAL  ...   1/15/2009          N     N\n",
              "188211     15994    F  MUNICIPAL  ...    9/5/2013          N     N\n",
              "\n",
              "[188212 rows x 15 columns]"
            ]
          },
          "metadata": {
            "tags": []
          },
          "execution_count": 188
        }
      ]
    },
    {
      "cell_type": "code",
      "metadata": {
        "id": "ESnrExfiY6Yp",
        "colab_type": "code",
        "colab": {}
      },
      "source": [
        "df_DEINFO2014.CNES = df_DEINFO2014.CNES.fillna(0.0).astype('Int64')"
      ],
      "execution_count": 238,
      "outputs": []
    },
    {
      "cell_type": "code",
      "metadata": {
        "id": "LvQI_Qo2bcUS",
        "colab_type": "code",
        "colab": {}
      },
      "source": [
        "df_medicos = df_servidores[(df_servidores['CARGO'] == 'MEDICO') & (df_servidores['ATIVO'] == 'S')]"
      ],
      "execution_count": 239,
      "outputs": []
    },
    {
      "cell_type": "code",
      "metadata": {
        "id": "w-1N3XPobetY",
        "colab_type": "code",
        "colab": {
          "base_uri": "https://localhost:8080/",
          "height": 35
        },
        "outputId": "be78a3f7-7a1a-41b4-e16c-99fb7bced21f"
      },
      "source": [
        "df_medicos.shape"
      ],
      "execution_count": 240,
      "outputs": [
        {
          "output_type": "execute_result",
          "data": {
            "text/plain": [
              "(13029, 15)"
            ]
          },
          "metadata": {
            "tags": []
          },
          "execution_count": 240
        }
      ]
    },
    {
      "cell_type": "code",
      "metadata": {
        "id": "GLR4gOD1XTR4",
        "colab_type": "code",
        "colab": {}
      },
      "source": [
        "df_servi_AND_info = pd.merge(df_medicos, df_DEINFO2014[['CNES','REGIAO5']], how = 'left', on='CNES')"
      ],
      "execution_count": 242,
      "outputs": []
    },
    {
      "cell_type": "code",
      "metadata": {
        "id": "Mei5FbcrgTPT",
        "colab_type": "code",
        "colab": {
          "base_uri": "https://localhost:8080/",
          "height": 35
        },
        "outputId": "20e387eb-110c-4839-a0ff-6910aca70462"
      },
      "source": [
        "df_servi_AND_info.shape"
      ],
      "execution_count": 243,
      "outputs": [
        {
          "output_type": "execute_result",
          "data": {
            "text/plain": [
              "(22647, 16)"
            ]
          },
          "metadata": {
            "tags": []
          },
          "execution_count": 243
        }
      ]
    },
    {
      "cell_type": "code",
      "metadata": {
        "id": "8itr0D_pdZdi",
        "colab_type": "code",
        "colab": {}
      },
      "source": [
        "df_servi_AND_info.dropna(subset=['CNES', 'REGIAO5'], inplace=True)"
      ],
      "execution_count": 244,
      "outputs": []
    },
    {
      "cell_type": "code",
      "metadata": {
        "id": "vTiKiKgUYBML",
        "colab_type": "code",
        "colab": {
          "base_uri": "https://localhost:8080/",
          "height": 255
        },
        "outputId": "45a33424-1921-42d1-b7ca-3d308f219979"
      },
      "source": [
        "df_servi_AND_info.groupby(by='REGIAO5').count()"
      ],
      "execution_count": 247,
      "outputs": [
        {
          "output_type": "execute_result",
          "data": {
            "text/html": [
              "<div>\n",
              "<style scoped>\n",
              "    .dataframe tbody tr th:only-of-type {\n",
              "        vertical-align: middle;\n",
              "    }\n",
              "\n",
              "    .dataframe tbody tr th {\n",
              "        vertical-align: top;\n",
              "    }\n",
              "\n",
              "    .dataframe thead th {\n",
              "        text-align: right;\n",
              "    }\n",
              "</style>\n",
              "<table border=\"1\" class=\"dataframe\">\n",
              "  <thead>\n",
              "    <tr style=\"text-align: right;\">\n",
              "      <th></th>\n",
              "      <th>SERVIDOR</th>\n",
              "      <th>SEXO</th>\n",
              "      <th>VINCULO</th>\n",
              "      <th>CONSELHO</th>\n",
              "      <th>ESPECIALIDAD</th>\n",
              "      <th>CARGO</th>\n",
              "      <th>NIVEL</th>\n",
              "      <th>PARCEIRA</th>\n",
              "      <th>JORNADA</th>\n",
              "      <th>REGIME</th>\n",
              "      <th>CNES</th>\n",
              "      <th>DATA_INICIO</th>\n",
              "      <th>DATA_FIM</th>\n",
              "      <th>READAPTADO</th>\n",
              "      <th>ATIVO</th>\n",
              "    </tr>\n",
              "    <tr>\n",
              "      <th>REGIAO5</th>\n",
              "      <th></th>\n",
              "      <th></th>\n",
              "      <th></th>\n",
              "      <th></th>\n",
              "      <th></th>\n",
              "      <th></th>\n",
              "      <th></th>\n",
              "      <th></th>\n",
              "      <th></th>\n",
              "      <th></th>\n",
              "      <th></th>\n",
              "      <th></th>\n",
              "      <th></th>\n",
              "      <th></th>\n",
              "      <th></th>\n",
              "    </tr>\n",
              "  </thead>\n",
              "  <tbody>\n",
              "    <tr>\n",
              "      <th>Centro</th>\n",
              "      <td>1362</td>\n",
              "      <td>1362</td>\n",
              "      <td>1362</td>\n",
              "      <td>1362</td>\n",
              "      <td>1362</td>\n",
              "      <td>1362</td>\n",
              "      <td>1362</td>\n",
              "      <td>1362</td>\n",
              "      <td>1362</td>\n",
              "      <td>1362</td>\n",
              "      <td>1362</td>\n",
              "      <td>1362</td>\n",
              "      <td>0</td>\n",
              "      <td>1362</td>\n",
              "      <td>1362</td>\n",
              "    </tr>\n",
              "    <tr>\n",
              "      <th>Leste</th>\n",
              "      <td>7673</td>\n",
              "      <td>7673</td>\n",
              "      <td>7673</td>\n",
              "      <td>7673</td>\n",
              "      <td>7673</td>\n",
              "      <td>7673</td>\n",
              "      <td>7673</td>\n",
              "      <td>7673</td>\n",
              "      <td>7673</td>\n",
              "      <td>7673</td>\n",
              "      <td>7673</td>\n",
              "      <td>7673</td>\n",
              "      <td>0</td>\n",
              "      <td>7673</td>\n",
              "      <td>7673</td>\n",
              "    </tr>\n",
              "    <tr>\n",
              "      <th>Norte</th>\n",
              "      <td>4329</td>\n",
              "      <td>4329</td>\n",
              "      <td>4329</td>\n",
              "      <td>4329</td>\n",
              "      <td>4329</td>\n",
              "      <td>4329</td>\n",
              "      <td>4329</td>\n",
              "      <td>4329</td>\n",
              "      <td>4329</td>\n",
              "      <td>4329</td>\n",
              "      <td>4329</td>\n",
              "      <td>4329</td>\n",
              "      <td>0</td>\n",
              "      <td>4329</td>\n",
              "      <td>4329</td>\n",
              "    </tr>\n",
              "    <tr>\n",
              "      <th>Oeste</th>\n",
              "      <td>1319</td>\n",
              "      <td>1319</td>\n",
              "      <td>1319</td>\n",
              "      <td>1319</td>\n",
              "      <td>1319</td>\n",
              "      <td>1319</td>\n",
              "      <td>1319</td>\n",
              "      <td>1319</td>\n",
              "      <td>1319</td>\n",
              "      <td>1319</td>\n",
              "      <td>1319</td>\n",
              "      <td>1319</td>\n",
              "      <td>0</td>\n",
              "      <td>1319</td>\n",
              "      <td>1319</td>\n",
              "    </tr>\n",
              "    <tr>\n",
              "      <th>Sul</th>\n",
              "      <td>6846</td>\n",
              "      <td>6846</td>\n",
              "      <td>6846</td>\n",
              "      <td>6846</td>\n",
              "      <td>6846</td>\n",
              "      <td>6846</td>\n",
              "      <td>6846</td>\n",
              "      <td>6846</td>\n",
              "      <td>6846</td>\n",
              "      <td>6846</td>\n",
              "      <td>6846</td>\n",
              "      <td>6846</td>\n",
              "      <td>0</td>\n",
              "      <td>6846</td>\n",
              "      <td>6846</td>\n",
              "    </tr>\n",
              "  </tbody>\n",
              "</table>\n",
              "</div>"
            ],
            "text/plain": [
              "         SERVIDOR  SEXO  VINCULO  ...  DATA_FIM  READAPTADO  ATIVO\n",
              "REGIAO5                           ...                             \n",
              "Centro       1362  1362     1362  ...         0        1362   1362\n",
              "Leste        7673  7673     7673  ...         0        7673   7673\n",
              "Norte        4329  4329     4329  ...         0        4329   4329\n",
              "Oeste        1319  1319     1319  ...         0        1319   1319\n",
              "Sul          6846  6846     6846  ...         0        6846   6846\n",
              "\n",
              "[5 rows x 15 columns]"
            ]
          },
          "metadata": {
            "tags": []
          },
          "execution_count": 247
        }
      ]
    },
    {
      "cell_type": "code",
      "metadata": {
        "id": "lyavMMF9hrZ1",
        "colab_type": "code",
        "colab": {
          "base_uri": "https://localhost:8080/",
          "height": 35
        },
        "outputId": "9facaaf1-9442-40f1-a3d3-116c7e445558"
      },
      "source": [
        "df_servi_AND_info['SERVIDOR'].plot(kind='pie')\n",
        "plt.show()"
      ],
      "execution_count": null,
      "outputs": [
        {
          "output_type": "execute_result",
          "data": {
            "text/plain": [
              "<matplotlib.axes._subplots.AxesSubplot at 0x7efe20cc9278>"
            ]
          },
          "metadata": {
            "tags": []
          },
          "execution_count": 258
        }
      ]
    },
    {
      "cell_type": "code",
      "metadata": {
        "id": "dSwoxwKNXP3P",
        "colab_type": "code",
        "colab": {
          "base_uri": "https://localhost:8080/",
          "height": 682
        },
        "outputId": "bb69ec6a-ae6a-4078-b389-055b15493c46"
      },
      "source": [
        ""
      ],
      "execution_count": 256,
      "outputs": [
        {
          "output_type": "error",
          "ename": "ValueError",
          "evalue": "ignored",
          "traceback": [
            "\u001b[0;31m---------------------------------------------------------------------------\u001b[0m",
            "\u001b[0;31mValueError\u001b[0m                                Traceback (most recent call last)",
            "\u001b[0;32m<ipython-input-256-2c1a9e57c573>\u001b[0m in \u001b[0;36m<module>\u001b[0;34m()\u001b[0m\n\u001b[1;32m      7\u001b[0m \u001b[0;34m\u001b[0m\u001b[0m\n\u001b[1;32m      8\u001b[0m \u001b[0mfig\u001b[0m\u001b[0;34m,\u001b[0m \u001b[0max\u001b[0m \u001b[0;34m=\u001b[0m \u001b[0mplt\u001b[0m\u001b[0;34m.\u001b[0m\u001b[0msubplots\u001b[0m\u001b[0;34m(\u001b[0m\u001b[0;34m)\u001b[0m\u001b[0;34m\u001b[0m\u001b[0;34m\u001b[0m\u001b[0m\n\u001b[0;32m----> 9\u001b[0;31m \u001b[0mrects1\u001b[0m \u001b[0;34m=\u001b[0m \u001b[0max\u001b[0m\u001b[0;34m.\u001b[0m\u001b[0mbar\u001b[0m\u001b[0;34m(\u001b[0m\u001b[0mx\u001b[0m \u001b[0;34m-\u001b[0m \u001b[0mwidth\u001b[0m\u001b[0;34m/\u001b[0m\u001b[0;36m2\u001b[0m\u001b[0;34m,\u001b[0m \u001b[0mmen_docs\u001b[0m\u001b[0;34m,\u001b[0m \u001b[0mwidth\u001b[0m\u001b[0;34m,\u001b[0m \u001b[0mlabel\u001b[0m\u001b[0;34m=\u001b[0m\u001b[0;34m'Men'\u001b[0m\u001b[0;34m)\u001b[0m\u001b[0;34m\u001b[0m\u001b[0;34m\u001b[0m\u001b[0m\n\u001b[0m\u001b[1;32m     10\u001b[0m \u001b[0mrects2\u001b[0m \u001b[0;34m=\u001b[0m \u001b[0max\u001b[0m\u001b[0;34m.\u001b[0m\u001b[0mbar\u001b[0m\u001b[0;34m(\u001b[0m\u001b[0mx\u001b[0m \u001b[0;34m+\u001b[0m \u001b[0mwidth\u001b[0m\u001b[0;34m/\u001b[0m\u001b[0;36m2\u001b[0m\u001b[0;34m,\u001b[0m \u001b[0mwomen_docs\u001b[0m\u001b[0;34m,\u001b[0m \u001b[0mwidth\u001b[0m\u001b[0;34m,\u001b[0m \u001b[0mlabel\u001b[0m\u001b[0;34m=\u001b[0m\u001b[0;34m'Women'\u001b[0m\u001b[0;34m)\u001b[0m\u001b[0;34m\u001b[0m\u001b[0;34m\u001b[0m\u001b[0m\n\u001b[1;32m     11\u001b[0m \u001b[0;34m\u001b[0m\u001b[0m\n",
            "\u001b[0;32m/usr/local/lib/python3.6/dist-packages/matplotlib/__init__.py\u001b[0m in \u001b[0;36minner\u001b[0;34m(ax, data, *args, **kwargs)\u001b[0m\n\u001b[1;32m   1563\u001b[0m     \u001b[0;32mdef\u001b[0m \u001b[0minner\u001b[0m\u001b[0;34m(\u001b[0m\u001b[0max\u001b[0m\u001b[0;34m,\u001b[0m \u001b[0;34m*\u001b[0m\u001b[0margs\u001b[0m\u001b[0;34m,\u001b[0m \u001b[0mdata\u001b[0m\u001b[0;34m=\u001b[0m\u001b[0;32mNone\u001b[0m\u001b[0;34m,\u001b[0m \u001b[0;34m**\u001b[0m\u001b[0mkwargs\u001b[0m\u001b[0;34m)\u001b[0m\u001b[0;34m:\u001b[0m\u001b[0;34m\u001b[0m\u001b[0;34m\u001b[0m\u001b[0m\n\u001b[1;32m   1564\u001b[0m         \u001b[0;32mif\u001b[0m \u001b[0mdata\u001b[0m \u001b[0;32mis\u001b[0m \u001b[0;32mNone\u001b[0m\u001b[0;34m:\u001b[0m\u001b[0;34m\u001b[0m\u001b[0;34m\u001b[0m\u001b[0m\n\u001b[0;32m-> 1565\u001b[0;31m             \u001b[0;32mreturn\u001b[0m \u001b[0mfunc\u001b[0m\u001b[0;34m(\u001b[0m\u001b[0max\u001b[0m\u001b[0;34m,\u001b[0m \u001b[0;34m*\u001b[0m\u001b[0mmap\u001b[0m\u001b[0;34m(\u001b[0m\u001b[0msanitize_sequence\u001b[0m\u001b[0;34m,\u001b[0m \u001b[0margs\u001b[0m\u001b[0;34m)\u001b[0m\u001b[0;34m,\u001b[0m \u001b[0;34m**\u001b[0m\u001b[0mkwargs\u001b[0m\u001b[0;34m)\u001b[0m\u001b[0;34m\u001b[0m\u001b[0;34m\u001b[0m\u001b[0m\n\u001b[0m\u001b[1;32m   1566\u001b[0m \u001b[0;34m\u001b[0m\u001b[0m\n\u001b[1;32m   1567\u001b[0m         \u001b[0mbound\u001b[0m \u001b[0;34m=\u001b[0m \u001b[0mnew_sig\u001b[0m\u001b[0;34m.\u001b[0m\u001b[0mbind\u001b[0m\u001b[0;34m(\u001b[0m\u001b[0max\u001b[0m\u001b[0;34m,\u001b[0m \u001b[0;34m*\u001b[0m\u001b[0margs\u001b[0m\u001b[0;34m,\u001b[0m \u001b[0;34m**\u001b[0m\u001b[0mkwargs\u001b[0m\u001b[0;34m)\u001b[0m\u001b[0;34m\u001b[0m\u001b[0;34m\u001b[0m\u001b[0m\n",
            "\u001b[0;32m/usr/local/lib/python3.6/dist-packages/matplotlib/axes/_axes.py\u001b[0m in \u001b[0;36mbar\u001b[0;34m(self, x, height, width, bottom, align, **kwargs)\u001b[0m\n\u001b[1;32m   2340\u001b[0m         x, height, width, y, linewidth = np.broadcast_arrays(\n\u001b[1;32m   2341\u001b[0m             \u001b[0;31m# Make args iterable too.\u001b[0m\u001b[0;34m\u001b[0m\u001b[0;34m\u001b[0m\u001b[0;34m\u001b[0m\u001b[0m\n\u001b[0;32m-> 2342\u001b[0;31m             np.atleast_1d(x), height, width, y, linewidth)\n\u001b[0m\u001b[1;32m   2343\u001b[0m \u001b[0;34m\u001b[0m\u001b[0m\n\u001b[1;32m   2344\u001b[0m         \u001b[0;31m# Now that units have been converted, set the tick locations.\u001b[0m\u001b[0;34m\u001b[0m\u001b[0;34m\u001b[0m\u001b[0;34m\u001b[0m\u001b[0m\n",
            "\u001b[0;32m<__array_function__ internals>\u001b[0m in \u001b[0;36mbroadcast_arrays\u001b[0;34m(*args, **kwargs)\u001b[0m\n",
            "\u001b[0;32m/usr/local/lib/python3.6/dist-packages/numpy/lib/stride_tricks.py\u001b[0m in \u001b[0;36mbroadcast_arrays\u001b[0;34m(*args, **kwargs)\u001b[0m\n\u001b[1;32m    262\u001b[0m     \u001b[0margs\u001b[0m \u001b[0;34m=\u001b[0m \u001b[0;34m[\u001b[0m\u001b[0mnp\u001b[0m\u001b[0;34m.\u001b[0m\u001b[0marray\u001b[0m\u001b[0;34m(\u001b[0m\u001b[0m_m\u001b[0m\u001b[0;34m,\u001b[0m \u001b[0mcopy\u001b[0m\u001b[0;34m=\u001b[0m\u001b[0;32mFalse\u001b[0m\u001b[0;34m,\u001b[0m \u001b[0msubok\u001b[0m\u001b[0;34m=\u001b[0m\u001b[0msubok\u001b[0m\u001b[0;34m)\u001b[0m \u001b[0;32mfor\u001b[0m \u001b[0m_m\u001b[0m \u001b[0;32min\u001b[0m \u001b[0margs\u001b[0m\u001b[0;34m]\u001b[0m\u001b[0;34m\u001b[0m\u001b[0;34m\u001b[0m\u001b[0m\n\u001b[1;32m    263\u001b[0m \u001b[0;34m\u001b[0m\u001b[0m\n\u001b[0;32m--> 264\u001b[0;31m     \u001b[0mshape\u001b[0m \u001b[0;34m=\u001b[0m \u001b[0m_broadcast_shape\u001b[0m\u001b[0;34m(\u001b[0m\u001b[0;34m*\u001b[0m\u001b[0margs\u001b[0m\u001b[0;34m)\u001b[0m\u001b[0;34m\u001b[0m\u001b[0;34m\u001b[0m\u001b[0m\n\u001b[0m\u001b[1;32m    265\u001b[0m \u001b[0;34m\u001b[0m\u001b[0m\n\u001b[1;32m    266\u001b[0m     \u001b[0;32mif\u001b[0m \u001b[0mall\u001b[0m\u001b[0;34m(\u001b[0m\u001b[0marray\u001b[0m\u001b[0;34m.\u001b[0m\u001b[0mshape\u001b[0m \u001b[0;34m==\u001b[0m \u001b[0mshape\u001b[0m \u001b[0;32mfor\u001b[0m \u001b[0marray\u001b[0m \u001b[0;32min\u001b[0m \u001b[0margs\u001b[0m\u001b[0;34m)\u001b[0m\u001b[0;34m:\u001b[0m\u001b[0;34m\u001b[0m\u001b[0;34m\u001b[0m\u001b[0m\n",
            "\u001b[0;32m/usr/local/lib/python3.6/dist-packages/numpy/lib/stride_tricks.py\u001b[0m in \u001b[0;36m_broadcast_shape\u001b[0;34m(*args)\u001b[0m\n\u001b[1;32m    189\u001b[0m     \u001b[0;31m# use the old-iterator because np.nditer does not handle size 0 arrays\u001b[0m\u001b[0;34m\u001b[0m\u001b[0;34m\u001b[0m\u001b[0;34m\u001b[0m\u001b[0m\n\u001b[1;32m    190\u001b[0m     \u001b[0;31m# consistently\u001b[0m\u001b[0;34m\u001b[0m\u001b[0;34m\u001b[0m\u001b[0;34m\u001b[0m\u001b[0m\n\u001b[0;32m--> 191\u001b[0;31m     \u001b[0mb\u001b[0m \u001b[0;34m=\u001b[0m \u001b[0mnp\u001b[0m\u001b[0;34m.\u001b[0m\u001b[0mbroadcast\u001b[0m\u001b[0;34m(\u001b[0m\u001b[0;34m*\u001b[0m\u001b[0margs\u001b[0m\u001b[0;34m[\u001b[0m\u001b[0;34m:\u001b[0m\u001b[0;36m32\u001b[0m\u001b[0;34m]\u001b[0m\u001b[0;34m)\u001b[0m\u001b[0;34m\u001b[0m\u001b[0;34m\u001b[0m\u001b[0m\n\u001b[0m\u001b[1;32m    192\u001b[0m     \u001b[0;31m# unfortunately, it cannot handle 32 or more arguments directly\u001b[0m\u001b[0;34m\u001b[0m\u001b[0;34m\u001b[0m\u001b[0;34m\u001b[0m\u001b[0m\n\u001b[1;32m    193\u001b[0m     \u001b[0;32mfor\u001b[0m \u001b[0mpos\u001b[0m \u001b[0;32min\u001b[0m \u001b[0mrange\u001b[0m\u001b[0;34m(\u001b[0m\u001b[0;36m32\u001b[0m\u001b[0;34m,\u001b[0m \u001b[0mlen\u001b[0m\u001b[0;34m(\u001b[0m\u001b[0margs\u001b[0m\u001b[0;34m)\u001b[0m\u001b[0;34m,\u001b[0m \u001b[0;36m31\u001b[0m\u001b[0;34m)\u001b[0m\u001b[0;34m:\u001b[0m\u001b[0;34m\u001b[0m\u001b[0;34m\u001b[0m\u001b[0m\n",
            "\u001b[0;31mValueError\u001b[0m: shape mismatch: objects cannot be broadcast to a single shape"
          ]
        },
        {
          "output_type": "display_data",
          "data": {
            "image/png": "[encoded data removed]",
            "text/plain": [
              "<Figure size 432x288 with 1 Axes>"
            ]
          },
          "metadata": {
            "tags": [],
            "needs_background": "light"
          }
        }
      ]
    },
    {
      "cell_type": "code",
      "metadata": {
        "id": "9LT-UfS0KTAE",
        "colab_type": "code",
        "colab": {
          "base_uri": "https://localhost:8080/",
          "height": 181
        },
        "outputId": "d1ca88d7-e4f8-40f6-a0b1-b074487b9bfe"
      },
      "source": [
        "df_arquivo.columns"
      ],
      "execution_count": 170,
      "outputs": [
        {
          "output_type": "execute_result",
          "data": {
            "text/plain": [
              "Index(['Nome', 'Descrição', 'Nível de Agregação', 'Responsável',\n",
              "       'Data de referência', 'Sigilo', 'Unnamed: 6', 'Unnamed: 7',\n",
              "       'Unnamed: 8', 'Unnamed: 9', 'Unnamed: 10', 'Unnamed: 11', 'Unnamed: 12',\n",
              "       'Unnamed: 13', 'Unnamed: 14', 'Unnamed: 15', 'Unnamed: 16',\n",
              "       'Unnamed: 17', 'Unnamed: 18', 'Unnamed: 19', 'Unnamed: 20',\n",
              "       'Unnamed: 21', 'Unnamed: 22', 'Unnamed: 23', 'Unnamed: 24',\n",
              "       'Unnamed: 25'],\n",
              "      dtype='object')"
            ]
          },
          "metadata": {
            "tags": []
          },
          "execution_count": 170
        }
      ]
    },
    {
      "cell_type": "code",
      "metadata": {
        "id": "Et00HNjYKbtV",
        "colab_type": "code",
        "colab": {
          "base_uri": "https://localhost:8080/",
          "height": 163
        },
        "outputId": "1ff39775-0d47-4781-bd37-79b1ef553489"
      },
      "source": [
        "df_categorias.columns"
      ],
      "execution_count": 171,
      "outputs": [
        {
          "output_type": "execute_result",
          "data": {
            "text/plain": [
              "Index(['Variável', 'Código', 'Categorias', 'Descrição', 'Unnamed: 4',\n",
              "       'Unnamed: 5', 'Unnamed: 6', 'Unnamed: 7', 'Unnamed: 8', 'Unnamed: 9',\n",
              "       'Unnamed: 10', 'Unnamed: 11', 'Unnamed: 12', 'Unnamed: 13',\n",
              "       'Unnamed: 14', 'Unnamed: 15', 'Unnamed: 16', 'Unnamed: 17',\n",
              "       'Unnamed: 18', 'Unnamed: 19', 'Unnamed: 20', 'Unnamed: 21',\n",
              "       'Unnamed: 22', 'Unnamed: 23', 'Unnamed: 24', 'Unnamed: 25'],\n",
              "      dtype='object')"
            ]
          },
          "metadata": {
            "tags": []
          },
          "execution_count": 171
        }
      ]
    },
    {
      "cell_type": "code",
      "metadata": {
        "id": "UgmEgU71LkdO",
        "colab_type": "code",
        "colab": {
          "base_uri": "https://localhost:8080/",
          "height": 163
        },
        "outputId": "558497f6-b59d-47a1-cb3b-ffc00af97ec8"
      },
      "source": [
        "df_variaveis.columns"
      ],
      "execution_count": 172,
      "outputs": [
        {
          "output_type": "execute_result",
          "data": {
            "text/plain": [
              "Index(['Arquivo', 'Variável', 'Nome da variável', 'Descrição da variável',\n",
              "       'Fonte', 'Tipo', 'Tamanho', 'Unnamed: 7', 'Unnamed: 8', 'Unnamed: 9',\n",
              "       'Unnamed: 10', 'Unnamed: 11', 'Unnamed: 12', 'Unnamed: 13',\n",
              "       'Unnamed: 14', 'Unnamed: 15', 'Unnamed: 16', 'Unnamed: 17',\n",
              "       'Unnamed: 18', 'Unnamed: 19', 'Unnamed: 20', 'Unnamed: 21',\n",
              "       'Unnamed: 22', 'Unnamed: 23', 'Unnamed: 24', 'Unnamed: 25'],\n",
              "      dtype='object')"
            ]
          },
          "metadata": {
            "tags": []
          },
          "execution_count": 172
        }
      ]
    },
    {
      "cell_type": "code",
      "metadata": {
        "id": "x3qgnuAFL26g",
        "colab_type": "code",
        "colab": {}
      },
      "source": [
        ""
      ],
      "execution_count": 172,
      "outputs": []
    },
    {
      "cell_type": "code",
      "metadata": {
        "id": "-0Mq0ckLKiYr",
        "colab_type": "code",
        "colab": {}
      },
      "source": [
        "df_arquivo.dropna(axis=1, inplace=True)"
      ],
      "execution_count": 173,
      "outputs": []
    },
    {
      "cell_type": "code",
      "metadata": {
        "id": "AT4qw5WkK8Nm",
        "colab_type": "code",
        "colab": {
          "base_uri": "https://localhost:8080/",
          "height": 402
        },
        "outputId": "3cf2cddf-08f2-4d94-d542-c90d21a434eb"
      },
      "source": [
        "df_arquivo"
      ],
      "execution_count": 174,
      "outputs": [
        {
          "output_type": "execute_result",
          "data": {
            "text/html": [
              "<div>\n",
              "<style scoped>\n",
              "    .dataframe tbody tr th:only-of-type {\n",
              "        vertical-align: middle;\n",
              "    }\n",
              "\n",
              "    .dataframe tbody tr th {\n",
              "        vertical-align: top;\n",
              "    }\n",
              "\n",
              "    .dataframe thead th {\n",
              "        text-align: right;\n",
              "    }\n",
              "</style>\n",
              "<table border=\"1\" class=\"dataframe\">\n",
              "  <thead>\n",
              "    <tr style=\"text-align: right;\">\n",
              "      <th></th>\n",
              "    </tr>\n",
              "  </thead>\n",
              "  <tbody>\n",
              "    <tr>\n",
              "      <th>0</th>\n",
              "    </tr>\n",
              "    <tr>\n",
              "      <th>1</th>\n",
              "    </tr>\n",
              "    <tr>\n",
              "      <th>2</th>\n",
              "    </tr>\n",
              "    <tr>\n",
              "      <th>3</th>\n",
              "    </tr>\n",
              "    <tr>\n",
              "      <th>4</th>\n",
              "    </tr>\n",
              "    <tr>\n",
              "      <th>...</th>\n",
              "    </tr>\n",
              "    <tr>\n",
              "      <th>994</th>\n",
              "    </tr>\n",
              "    <tr>\n",
              "      <th>995</th>\n",
              "    </tr>\n",
              "    <tr>\n",
              "      <th>996</th>\n",
              "    </tr>\n",
              "    <tr>\n",
              "      <th>997</th>\n",
              "    </tr>\n",
              "    <tr>\n",
              "      <th>998</th>\n",
              "    </tr>\n",
              "  </tbody>\n",
              "</table>\n",
              "<p>999 rows × 0 columns</p>\n",
              "</div>"
            ],
            "text/plain": [
              "Empty DataFrame\n",
              "Columns: []\n",
              "Index: [0, 1, 2, 3, 4, 5, 6, 7, 8, 9, 10, 11, 12, 13, 14, 15, 16, 17, 18, 19, 20, 21, 22, 23, 24, 25, 26, 27, 28, 29, 30, 31, 32, 33, 34, 35, 36, 37, 38, 39, 40, 41, 42, 43, 44, 45, 46, 47, 48, 49, 50, 51, 52, 53, 54, 55, 56, 57, 58, 59, 60, 61, 62, 63, 64, 65, 66, 67, 68, 69, 70, 71, 72, 73, 74, 75, 76, 77, 78, 79, 80, 81, 82, 83, 84, 85, 86, 87, 88, 89, 90, 91, 92, 93, 94, 95, 96, 97, 98, 99, ...]\n",
              "\n",
              "[999 rows x 0 columns]"
            ]
          },
          "metadata": {
            "tags": []
          },
          "execution_count": 174
        }
      ]
    },
    {
      "cell_type": "code",
      "metadata": {
        "id": "FEfa0DnkLCk0",
        "colab_type": "code",
        "colab": {}
      },
      "source": [
        ""
      ],
      "execution_count": 174,
      "outputs": []
    },
    {
      "cell_type": "code",
      "metadata": {
        "id": "XwalFpsy421R",
        "colab_type": "code",
        "colab": {
          "base_uri": "https://localhost:8080/",
          "height": 35
        },
        "outputId": "188a4b58-61c7-4d17-adad-8bb553a464d7"
      },
      "source": [
        "df_arquivo.isna().sum()"
      ],
      "execution_count": 175,
      "outputs": [
        {
          "output_type": "execute_result",
          "data": {
            "text/plain": [
              "Series([], dtype: float64)"
            ]
          },
          "metadata": {
            "tags": []
          },
          "execution_count": 175
        }
      ]
    },
    {
      "cell_type": "code",
      "metadata": {
        "id": "UMVoS0eh5Lm9",
        "colab_type": "code",
        "colab": {
          "base_uri": "https://localhost:8080/",
          "height": 503
        },
        "outputId": "78a760d4-497a-4641-823e-77bc16c7757e"
      },
      "source": [
        "df_variaveis.isna().sum()"
      ],
      "execution_count": 176,
      "outputs": [
        {
          "output_type": "execute_result",
          "data": {
            "text/plain": [
              "Arquivo                  975\n",
              "Variável                 975\n",
              "Nome da variável         975\n",
              "Descrição da variável    975\n",
              "Fonte                    975\n",
              "Tipo                     975\n",
              "Tamanho                  975\n",
              "Unnamed: 7               999\n",
              "Unnamed: 8               999\n",
              "Unnamed: 9               999\n",
              "Unnamed: 10              999\n",
              "Unnamed: 11              999\n",
              "Unnamed: 12              999\n",
              "Unnamed: 13              999\n",
              "Unnamed: 14              999\n",
              "Unnamed: 15              999\n",
              "Unnamed: 16              999\n",
              "Unnamed: 17              999\n",
              "Unnamed: 18              999\n",
              "Unnamed: 19              999\n",
              "Unnamed: 20              999\n",
              "Unnamed: 21              999\n",
              "Unnamed: 22              999\n",
              "Unnamed: 23              999\n",
              "Unnamed: 24              999\n",
              "Unnamed: 25              999\n",
              "dtype: int64"
            ]
          },
          "metadata": {
            "tags": []
          },
          "execution_count": 176
        }
      ]
    },
    {
      "cell_type": "code",
      "metadata": {
        "id": "K2xiWzfB5h2K",
        "colab_type": "code",
        "colab": {
          "base_uri": "https://localhost:8080/",
          "height": 503
        },
        "outputId": "cd0e958c-72e8-4478-eeda-2ee22ad43f4d"
      },
      "source": [
        "df_categorias.isna().sum()"
      ],
      "execution_count": 177,
      "outputs": [
        {
          "output_type": "execute_result",
          "data": {
            "text/plain": [
              "Variável       943\n",
              "Código         943\n",
              "Categorias     943\n",
              "Descrição      943\n",
              "Unnamed: 4     999\n",
              "Unnamed: 5     999\n",
              "Unnamed: 6     999\n",
              "Unnamed: 7     999\n",
              "Unnamed: 8     999\n",
              "Unnamed: 9     999\n",
              "Unnamed: 10    999\n",
              "Unnamed: 11    999\n",
              "Unnamed: 12    999\n",
              "Unnamed: 13    999\n",
              "Unnamed: 14    999\n",
              "Unnamed: 15    999\n",
              "Unnamed: 16    999\n",
              "Unnamed: 17    999\n",
              "Unnamed: 18    999\n",
              "Unnamed: 19    999\n",
              "Unnamed: 20    999\n",
              "Unnamed: 21    999\n",
              "Unnamed: 22    999\n",
              "Unnamed: 23    999\n",
              "Unnamed: 24    999\n",
              "Unnamed: 25    999\n",
              "dtype: int64"
            ]
          },
          "metadata": {
            "tags": []
          },
          "execution_count": 177
        }
      ]
    },
    {
      "cell_type": "code",
      "metadata": {
        "id": "t6PjmjBd91mT",
        "colab_type": "code",
        "colab": {
          "base_uri": "https://localhost:8080/",
          "height": 394
        },
        "outputId": "b7b8b05d-0fea-4cb0-ed8b-338a279b3bf8"
      },
      "source": [
        "df_DEINFO2014.head()"
      ],
      "execution_count": 209,
      "outputs": [
        {
          "output_type": "execute_result",
          "data": {
            "text/html": [
              "<div>\n",
              "<style scoped>\n",
              "    .dataframe tbody tr th:only-of-type {\n",
              "        vertical-align: middle;\n",
              "    }\n",
              "\n",
              "    .dataframe tbody tr th {\n",
              "        vertical-align: top;\n",
              "    }\n",
              "\n",
              "    .dataframe thead th {\n",
              "        text-align: right;\n",
              "    }\n",
              "</style>\n",
              "<table border=\"1\" class=\"dataframe\">\n",
              "  <thead>\n",
              "    <tr style=\"text-align: right;\">\n",
              "      <th></th>\n",
              "      <th>ID</th>\n",
              "      <th>LONG</th>\n",
              "      <th>LAT</th>\n",
              "      <th>SETCENS</th>\n",
              "      <th>AREAP</th>\n",
              "      <th>CODDIST</th>\n",
              "      <th>DISTRITO</th>\n",
              "      <th>CODSUBPREF</th>\n",
              "      <th>SUBPREF</th>\n",
              "      <th>REGIAO5</th>\n",
              "      <th>REGIAO8</th>\n",
              "      <th>ESTABELECI</th>\n",
              "      <th>ENDERECO</th>\n",
              "      <th>BAIRRO</th>\n",
              "      <th>TELEFONE</th>\n",
              "      <th>CEP</th>\n",
              "      <th>CNES</th>\n",
              "      <th>SA_DEPADM</th>\n",
              "      <th>DEPADM</th>\n",
              "      <th>SA_TIPO</th>\n",
              "      <th>TIPO</th>\n",
              "      <th>SA_CLASSE</th>\n",
              "      <th>CLASSE</th>\n",
              "      <th>LEITOS</th>\n",
              "    </tr>\n",
              "  </thead>\n",
              "  <tbody>\n",
              "    <tr>\n",
              "      <th>0</th>\n",
              "      <td>1</td>\n",
              "      <td>-46490063</td>\n",
              "      <td>-23522787</td>\n",
              "      <td>355030864000052</td>\n",
              "      <td>3550308005143</td>\n",
              "      <td>65</td>\n",
              "      <td>PONTE RASA</td>\n",
              "      <td>22</td>\n",
              "      <td>ERMELINO MATARAZZO</td>\n",
              "      <td>Leste</td>\n",
              "      <td>Leste 2</td>\n",
              "      <td>BURGO PAULISTA -AMA ESPECIALIDADES</td>\n",
              "      <td>JOSE SILVA ALCANTARA FILHO,R,1031</td>\n",
              "      <td>BURGO PAULISTA</td>\n",
              "      <td>22800080.0</td>\n",
              "      <td>3680000.0</td>\n",
              "      <td>6393608</td>\n",
              "      <td>1</td>\n",
              "      <td>Municipal</td>\n",
              "      <td>49</td>\n",
              "      <td>AMA ESPECIALIDADES</td>\n",
              "      <td>1</td>\n",
              "      <td>AMBULATORIOS ESPECIALIZADOS</td>\n",
              "      <td>0</td>\n",
              "    </tr>\n",
              "    <tr>\n",
              "      <th>1</th>\n",
              "      <td>2</td>\n",
              "      <td>-46773393</td>\n",
              "      <td>-23673297</td>\n",
              "      <td>355030819000016</td>\n",
              "      <td>3550308005232</td>\n",
              "      <td>19</td>\n",
              "      <td>CAPAO REDONDO</td>\n",
              "      <td>17</td>\n",
              "      <td>CAMPO LIMPO</td>\n",
              "      <td>Sul</td>\n",
              "      <td>Sul 2</td>\n",
              "      <td>CAPAO REDONDO - AMA ESPECIALIDADES</td>\n",
              "      <td>SANTANA,COM,AV,774</td>\n",
              "      <td>JD. BOA ESPERANCA</td>\n",
              "      <td>58742846.0</td>\n",
              "      <td>5666000.0</td>\n",
              "      <td>6194974</td>\n",
              "      <td>1</td>\n",
              "      <td>Municipal</td>\n",
              "      <td>49</td>\n",
              "      <td>AMA ESPECIALIDADES</td>\n",
              "      <td>1</td>\n",
              "      <td>AMBULATORIOS ESPECIALIZADOS</td>\n",
              "      <td>0</td>\n",
              "    </tr>\n",
              "    <tr>\n",
              "      <th>2</th>\n",
              "      <td>3</td>\n",
              "      <td>-46651898</td>\n",
              "      <td>-23531575</td>\n",
              "      <td>355030869000001</td>\n",
              "      <td>3550308005027</td>\n",
              "      <td>70</td>\n",
              "      <td>SANTA CECILIA</td>\n",
              "      <td>9</td>\n",
              "      <td>SE</td>\n",
              "      <td>Centro</td>\n",
              "      <td>Centro</td>\n",
              "      <td>HUMBERTO PASCALI,DR STA CECILIA - AMA ESPECIAL...</td>\n",
              "      <td>VITORINO CARMILO,R,599</td>\n",
              "      <td>CAMPOS ELISEOS</td>\n",
              "      <td>38260096.0</td>\n",
              "      <td>1153000.0</td>\n",
              "      <td>6138314</td>\n",
              "      <td>1</td>\n",
              "      <td>Municipal</td>\n",
              "      <td>49</td>\n",
              "      <td>AMA ESPECIALIDADES</td>\n",
              "      <td>1</td>\n",
              "      <td>AMBULATORIOS ESPECIALIZADOS</td>\n",
              "      <td>0</td>\n",
              "    </tr>\n",
              "    <tr>\n",
              "      <th>3</th>\n",
              "      <td>4</td>\n",
              "      <td>-46454974</td>\n",
              "      <td>-23538945</td>\n",
              "      <td>355030837000019</td>\n",
              "      <td>3550308005202</td>\n",
              "      <td>36</td>\n",
              "      <td>ITAQUERA</td>\n",
              "      <td>27</td>\n",
              "      <td>ITAQUERA</td>\n",
              "      <td>Leste</td>\n",
              "      <td>Leste 2</td>\n",
              "      <td>ITAQUERA-AMA ESPECIALIDADES</td>\n",
              "      <td>AMERICO SALVADOR NOVELLI,R,265</td>\n",
              "      <td>ITAQUERA</td>\n",
              "      <td>62860015.0</td>\n",
              "      <td>8210090.0</td>\n",
              "      <td>6394558</td>\n",
              "      <td>1</td>\n",
              "      <td>Municipal</td>\n",
              "      <td>49</td>\n",
              "      <td>AMA ESPECIALIDADES</td>\n",
              "      <td>1</td>\n",
              "      <td>AMBULATORIOS ESPECIALIZADOS</td>\n",
              "      <td>0</td>\n",
              "    </tr>\n",
              "    <tr>\n",
              "      <th>4</th>\n",
              "      <td>5</td>\n",
              "      <td>-46539564</td>\n",
              "      <td>-23599363</td>\n",
              "      <td>355030872000050</td>\n",
              "      <td>3550308005158</td>\n",
              "      <td>74</td>\n",
              "      <td>SAO LUCAS</td>\n",
              "      <td>29</td>\n",
              "      <td>VILA PRUDENTE</td>\n",
              "      <td>Leste</td>\n",
              "      <td>Leste 1</td>\n",
              "      <td>JD GUAIRACA - AMA ESPECIALIDADES</td>\n",
              "      <td>ERVA IMPERIAL,R,501</td>\n",
              "      <td>CID CONTINENTAL</td>\n",
              "      <td>NaN</td>\n",
              "      <td>3244030.0</td>\n",
              "      <td>6759998</td>\n",
              "      <td>1</td>\n",
              "      <td>Municipal</td>\n",
              "      <td>49</td>\n",
              "      <td>AMA ESPECIALIDADES</td>\n",
              "      <td>1</td>\n",
              "      <td>AMBULATORIOS ESPECIALIZADOS</td>\n",
              "      <td>0</td>\n",
              "    </tr>\n",
              "  </tbody>\n",
              "</table>\n",
              "</div>"
            ],
            "text/plain": [
              "   ID      LONG       LAT  ...  SA_CLASSE                       CLASSE  LEITOS\n",
              "0   1 -46490063 -23522787  ...          1  AMBULATORIOS ESPECIALIZADOS       0\n",
              "1   2 -46773393 -23673297  ...          1  AMBULATORIOS ESPECIALIZADOS       0\n",
              "2   3 -46651898 -23531575  ...          1  AMBULATORIOS ESPECIALIZADOS       0\n",
              "3   4 -46454974 -23538945  ...          1  AMBULATORIOS ESPECIALIZADOS       0\n",
              "4   5 -46539564 -23599363  ...          1  AMBULATORIOS ESPECIALIZADOS       0\n",
              "\n",
              "[5 rows x 24 columns]"
            ]
          },
          "metadata": {
            "tags": []
          },
          "execution_count": 209
        }
      ]
    },
    {
      "cell_type": "code",
      "metadata": {
        "id": "7uZKyA08o3I-",
        "colab_type": "code",
        "colab": {}
      },
      "source": [
        ""
      ],
      "execution_count": 177,
      "outputs": []
    }
  ]
}